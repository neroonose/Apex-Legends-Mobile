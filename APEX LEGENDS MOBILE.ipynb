{
 "cells": [
  {
   "cell_type": "code",
   "execution_count": 3,
   "id": "5043981c",
   "metadata": {},
   "outputs": [],
   "source": [
    "import snscrape.modules.twitter as sntwitter #Used snscrape to pull old tweets\n",
    "import pandas as pd\n",
    "import numpy as np\n",
    "import string\n",
    "\n",
    "import re\n",
    "import requests\n",
    "\n",
    "from collections import Counter\n",
    "from wordcloud import WordCloud\n",
    "\n",
    "import matplotlib.pyplot as plt\n",
    "import seaborn as sns\n",
    "%matplotlib inline\n",
    "\n",
    "from nltk.tokenize import word_tokenize\n",
    "from nltk.corpus import stopwords\n",
    "from nltk.stem import WordNetLemmatizer\n",
    "from emot.emo_unicode import EMOTICONS_EMO\n",
    "\n",
    "from vaderSentiment.vaderSentiment import SentimentIntensityAnalyzer\n",
    "sia = SentimentIntensityAnalyzer()\n",
    "from tqdm.notebook import tqdm\n",
    "\n",
    "#from transformers import pipeline\n",
    "#roberta_pipeline = pipeline('sentiment-analysis')\n",
    "\n",
    "from textblob import TextBlob \n",
    "from textblob.sentiments import NaiveBayesAnalyzer\n",
    "nav_bayes = NaiveBayesAnalyzer()"
   ]
  },
  {
   "cell_type": "code",
   "execution_count": 4,
   "id": "5e2ffec3",
   "metadata": {},
   "outputs": [],
   "source": [
    "# Creating list to append tweet data to\n",
    "tweets_list = []\n",
    "\n",
    "# Using TwitterSearchScraper to scrape data from 2022-05-05 till 2022-06-05 (1 month) and append tweets to list\n",
    "for i,tweet in enumerate(sntwitter.TwitterSearchScraper('apex legends mobile since:2020-05-05 until:2022-06-22').get_items()):\n",
    "    tweets_list.append([tweet.date, tweet.id, tweet.content, tweet.user.username, \n",
    "                         tweet.user.location, tweet.lang, tweet.retweetCount, tweet.likeCount])"
   ]
  },
  {
   "cell_type": "code",
   "execution_count": 5,
   "id": "df2dc5a4",
   "metadata": {},
   "outputs": [],
   "source": [
    "df = pd.DataFrame(tweets_list, columns=['Datetime', 'Tweet Id', 'Text', 'Username', 'Location', 'Language',\n",
    "                                               'Retweets', 'Likes'])"
   ]
  },
  {
   "cell_type": "code",
   "execution_count": 6,
   "id": "63e70301",
   "metadata": {},
   "outputs": [
    {
     "data": {
      "text/html": [
       "<div>\n",
       "<style scoped>\n",
       "    .dataframe tbody tr th:only-of-type {\n",
       "        vertical-align: middle;\n",
       "    }\n",
       "\n",
       "    .dataframe tbody tr th {\n",
       "        vertical-align: top;\n",
       "    }\n",
       "\n",
       "    .dataframe thead th {\n",
       "        text-align: right;\n",
       "    }\n",
       "</style>\n",
       "<table border=\"1\" class=\"dataframe\">\n",
       "  <thead>\n",
       "    <tr style=\"text-align: right;\">\n",
       "      <th></th>\n",
       "      <th>Datetime</th>\n",
       "      <th>Tweet Id</th>\n",
       "      <th>Text</th>\n",
       "      <th>Username</th>\n",
       "      <th>Location</th>\n",
       "      <th>Language</th>\n",
       "      <th>Retweets</th>\n",
       "      <th>Likes</th>\n",
       "    </tr>\n",
       "  </thead>\n",
       "  <tbody>\n",
       "    <tr>\n",
       "      <th>0</th>\n",
       "      <td>2022-06-21 23:58:26+00:00</td>\n",
       "      <td>1539397364238237696</td>\n",
       "      <td>@mark34198348 @PlayApexMobile I just don’t und...</td>\n",
       "      <td>LarryMVols18</td>\n",
       "      <td>Atlanta, GA</td>\n",
       "      <td>en</td>\n",
       "      <td>0</td>\n",
       "      <td>0</td>\n",
       "    </tr>\n",
       "    <tr>\n",
       "      <th>1</th>\n",
       "      <td>2022-06-21 23:57:33+00:00</td>\n",
       "      <td>1539397142183391232</td>\n",
       "      <td>@mark34198348 @PlayApexMobile Hell no I use my...</td>\n",
       "      <td>LarryMVols18</td>\n",
       "      <td>Atlanta, GA</td>\n",
       "      <td>en</td>\n",
       "      <td>0</td>\n",
       "      <td>0</td>\n",
       "    </tr>\n",
       "    <tr>\n",
       "      <th>2</th>\n",
       "      <td>2022-06-21 23:54:52+00:00</td>\n",
       "      <td>1539396463108792322</td>\n",
       "      <td>@Kauzeyy @PlayApexMobile YOOO CHILL 🤣🤣🤣</td>\n",
       "      <td>IzzyBonesGaming</td>\n",
       "      <td></td>\n",
       "      <td>es</td>\n",
       "      <td>0</td>\n",
       "      <td>0</td>\n",
       "    </tr>\n",
       "    <tr>\n",
       "      <th>3</th>\n",
       "      <td>2022-06-21 23:53:39+00:00</td>\n",
       "      <td>1539396156790394880</td>\n",
       "      <td>@ImOwFromYT @Respawn @PlayApexMobile my shii i...</td>\n",
       "      <td>fayde990</td>\n",
       "      <td></td>\n",
       "      <td>en</td>\n",
       "      <td>0</td>\n",
       "      <td>1</td>\n",
       "    </tr>\n",
       "    <tr>\n",
       "      <th>4</th>\n",
       "      <td>2022-06-21 23:53:22+00:00</td>\n",
       "      <td>1539396086179287041</td>\n",
       "      <td>The developers at @Respawn and @PlayApexMobile...</td>\n",
       "      <td>Hyper_FNM</td>\n",
       "      <td></td>\n",
       "      <td>en</td>\n",
       "      <td>0</td>\n",
       "      <td>1</td>\n",
       "    </tr>\n",
       "  </tbody>\n",
       "</table>\n",
       "</div>"
      ],
      "text/plain": [
       "                   Datetime             Tweet Id  \\\n",
       "0 2022-06-21 23:58:26+00:00  1539397364238237696   \n",
       "1 2022-06-21 23:57:33+00:00  1539397142183391232   \n",
       "2 2022-06-21 23:54:52+00:00  1539396463108792322   \n",
       "3 2022-06-21 23:53:39+00:00  1539396156790394880   \n",
       "4 2022-06-21 23:53:22+00:00  1539396086179287041   \n",
       "\n",
       "                                                Text         Username  \\\n",
       "0  @mark34198348 @PlayApexMobile I just don’t und...     LarryMVols18   \n",
       "1  @mark34198348 @PlayApexMobile Hell no I use my...     LarryMVols18   \n",
       "2            @Kauzeyy @PlayApexMobile YOOO CHILL 🤣🤣🤣  IzzyBonesGaming   \n",
       "3  @ImOwFromYT @Respawn @PlayApexMobile my shii i...         fayde990   \n",
       "4  The developers at @Respawn and @PlayApexMobile...        Hyper_FNM   \n",
       "\n",
       "      Location Language  Retweets  Likes  \n",
       "0  Atlanta, GA       en         0      0  \n",
       "1  Atlanta, GA       en         0      0  \n",
       "2                    es         0      0  \n",
       "3                    en         0      1  \n",
       "4                    en         0      1  "
      ]
     },
     "execution_count": 6,
     "metadata": {},
     "output_type": "execute_result"
    }
   ],
   "source": [
    "df.head()"
   ]
  },
  {
   "cell_type": "code",
   "execution_count": 7,
   "id": "65af0c5c",
   "metadata": {},
   "outputs": [
    {
     "name": "stdout",
     "output_type": "stream",
     "text": [
      "<class 'pandas.core.frame.DataFrame'>\n",
      "RangeIndex: 107503 entries, 0 to 107502\n",
      "Data columns (total 8 columns):\n",
      " #   Column    Non-Null Count   Dtype              \n",
      "---  ------    --------------   -----              \n",
      " 0   Datetime  107503 non-null  datetime64[ns, UTC]\n",
      " 1   Tweet Id  107503 non-null  int64              \n",
      " 2   Text      107503 non-null  object             \n",
      " 3   Username  107503 non-null  object             \n",
      " 4   Location  107503 non-null  object             \n",
      " 5   Language  107503 non-null  object             \n",
      " 6   Retweets  107503 non-null  int64              \n",
      " 7   Likes     107503 non-null  int64              \n",
      "dtypes: datetime64[ns, UTC](1), int64(3), object(4)\n",
      "memory usage: 6.6+ MB\n"
     ]
    }
   ],
   "source": [
    "df.info()"
   ]
  },
  {
   "cell_type": "code",
   "execution_count": 8,
   "id": "453beb9b",
   "metadata": {},
   "outputs": [
    {
     "data": {
      "text/plain": [
       "en     75864\n",
       "ja      6924\n",
       "es      5875\n",
       "fr      3089\n",
       "und     2985\n",
       "in      2839\n",
       "pt      2561\n",
       "qme     1522\n",
       "ro       825\n",
       "qam      761\n",
       "tl       685\n",
       "tr       526\n",
       "de       441\n",
       "ar       402\n",
       "it       308\n",
       "th       229\n",
       "hi       208\n",
       "ru       179\n",
       "pl       142\n",
       "nl       124\n",
       "ht       120\n",
       "cs       116\n",
       "da       113\n",
       "sv       106\n",
       "et        80\n",
       "zh        74\n",
       "vi        67\n",
       "ca        55\n",
       "fa        45\n",
       "eu        43\n",
       "no        36\n",
       "cy        35\n",
       "lt        22\n",
       "hu        20\n",
       "fi        13\n",
       "lv        11\n",
       "sl        11\n",
       "is         8\n",
       "ko         8\n",
       "uk         7\n",
       "el         6\n",
       "ta         4\n",
       "qht        4\n",
       "bg         3\n",
       "hy         1\n",
       "km         1\n",
       "ml         1\n",
       "mr         1\n",
       "my         1\n",
       "lo         1\n",
       "am         1\n",
       "Name: Language, dtype: int64"
      ]
     },
     "execution_count": 8,
     "metadata": {},
     "output_type": "execute_result"
    }
   ],
   "source": [
    "df['Language'].value_counts()"
   ]
  },
  {
   "cell_type": "code",
   "execution_count": 9,
   "id": "9b99f116",
   "metadata": {},
   "outputs": [],
   "source": [
    "#Creating a dataframe to store only english tweets\n",
    "tweets_df = df[df['Language'] == 'en']\n",
    "tweets_df.reset_index(drop=True, inplace=True)"
   ]
  },
  {
   "cell_type": "code",
   "execution_count": 10,
   "id": "7fa043e6",
   "metadata": {},
   "outputs": [],
   "source": [
    "\n",
    "\n",
    "#Creating a location dataframe to store top 50 location values\n",
    "location_df = pd.DataFrame(tweets_df.loc[:, 'Location'].value_counts().head(50))\\\n",
    "                .reset_index()\\\n",
    "                .reset_index()\\\n",
    "                .rename(columns={'level_0':'id', 'index':'location', 'Location':'counts'})\n",
    "\n"
   ]
  },
  {
   "cell_type": "code",
   "execution_count": 11,
   "id": "c479ff13",
   "metadata": {},
   "outputs": [],
   "source": [
    "#Here api was used to get the city and country values\n",
    "URL = \"https://geocoder.ls.hereapi.com/search/6.2/geocode.json\"\n",
    "api_key = 'XXXXXXXXXXXXXXXXXXXXXXXXXXXXXX'  # Acquire api key from developer.here.com\n",
    "\n",
    "def getCoordinates(location):\n",
    "    PARAMS = {'searchtext': location, 'apikey': api_key} # required parameters\n",
    "    r = requests.get(url=URL, params=PARAMS)  # pass in required parameters\n",
    "    data = r.json() # Raw json file\n",
    "    try:\n",
    "        label = data['Response']['View'][0]['Result'][0]['Location']['Address']['City']\n",
    "        country = data['Response']['View'][0]['Result'][0]['Location']['Address']['Country']\n",
    "        return label, country\n",
    "    except:\n",
    "        return 'Unknown', 'Unknown'\n",
    "\n",
    "#You can also use geopy to do this\n",
    "#from geopy.geocoders import Nominatim\n",
    "#from geopy.extra.rate_limiter import RateLimiter\n",
    "#import geopy\n",
    " \n",
    "# calling the nominatim tool\n",
    "#geopy.geocoders.options.default_user_agent = \"GetLoc\"\n",
    "#loc = Nominatim(user_agent=\"GetLoc\")\n",
    "#geocode = RateLimiter(loc.geocode, min_delay_seconds=0)"
   ]
  },
  {
   "cell_type": "code",
   "execution_count": 12,
   "id": "75350e66",
   "metadata": {},
   "outputs": [
    {
     "data": {
      "application/vnd.jupyter.widget-view+json": {
       "model_id": "5c5843444e294fbcad3bce711ec8d946",
       "version_major": 2,
       "version_minor": 0
      },
      "text/plain": [
       "  0%|          | 0/50 [00:00<?, ?it/s]"
      ]
     },
     "metadata": {},
     "output_type": "display_data"
    }
   ],
   "source": [
    "#Tqdm was used for the progress bar and the result is stored in the hereloc dictionary\n",
    "hereloc = {}\n",
    "\n",
    "for i, row in tqdm(location_df.iterrows(), total=len(location_df), miniters=1):    \n",
    "    myid = row['id']\n",
    "    locate = row['location']\n",
    "    \n",
    "    label, country_code = getCoordinates(locate)\n",
    "    #country_code = geocode(locate) --Like stated above, geocode can also be used\n",
    "    hereloc[myid] = [label, country_code]"
   ]
  },
  {
   "cell_type": "code",
   "execution_count": 13,
   "id": "0acd651b",
   "metadata": {},
   "outputs": [],
   "source": [
    "\n",
    "location_dict = pd.DataFrame.from_dict(hereloc, orient='index')\\\n",
    "                .reset_index()\\\n",
    "                .rename(columns={'index': 'id', 0: 'city', 1: 'country_code'})\n",
    "\n",
    "location_data = location_df.merge(location_dict)\n",
    "\n"
   ]
  },
  {
   "cell_type": "code",
   "execution_count": 14,
   "id": "ba652825",
   "metadata": {},
   "outputs": [],
   "source": [
    "#Extracting top country and city from the location_data dataframe\n",
    "country_count = location_data.groupby('country_code').sum()[['counts']].sort_values('counts', ascending=False).reset_index()\n",
    "city_count = location_data.groupby('city').sum()[['counts']].sort_values('counts', ascending=False).reset_index()"
   ]
  },
  {
   "cell_type": "code",
   "execution_count": 15,
   "id": "60cf31af",
   "metadata": {},
   "outputs": [
    {
     "data": {
      "text/plain": [
       "Text(0, 1, 'Country Code')"
      ]
     },
     "execution_count": 15,
     "metadata": {},
     "output_type": "execute_result"
    },
    {
     "data": {
      "image/png": "[encoded data removed]",
      "text/plain": [
       "<Figure size 864x432 with 1 Axes>"
      ]
     },
     "metadata": {
      "needs_background": "light"
     },
     "output_type": "display_data"
    }
   ],
   "source": [
    "with plt.rc_context({'font.size':13}):\n",
    "    plt.figure(figsize=(12, 6))\n",
    "    ax = sns.barplot(x='counts', y='country_code', data = country_count, color='sandybrown')\n",
    "    \n",
    "plt.bar_label(ax.containers[0])\n",
    "ax.set_title('Tweet Locations(Country)', fontdict={'fontsize':15}, loc='left', pad = 12)\n",
    "ax.set_xlabel('Counts', fontdict={'fontsize':14}, loc='left')\n",
    "ax.set_ylabel('Country Code', fontdict={'fontsize':14}, loc='top')"
   ]
  },
  {
   "cell_type": "code",
   "execution_count": 16,
   "id": "d4e271ac",
   "metadata": {},
   "outputs": [
    {
     "data": {
      "text/plain": [
       "Text(0, 1, 'City')"
      ]
     },
     "execution_count": 16,
     "metadata": {},
     "output_type": "execute_result"
    },
    {
     "data": {
      "image/png": "[encoded data removed]",
      "text/plain": [
       "<Figure size 864x432 with 1 Axes>"
      ]
     },
     "metadata": {
      "needs_background": "light"
     },
     "output_type": "display_data"
    }
   ],
   "source": [
    "with plt.rc_context({'font.size':13}):\n",
    "    plt.figure(figsize=(12, 6))\n",
    "    ax = sns.barplot(x='counts', y='city', data = city_count.head(10), color='brown')\n",
    "    \n",
    "plt.bar_label(ax.containers[0])\n",
    "ax.set_title('Tweet Locations(City)', fontdict={'fontsize':15}, loc='left', pad=12)\n",
    "ax.set_xlabel('Counts', fontdict={'fontsize':14}, loc='left')\n",
    "ax.set_ylabel('City', fontdict={'fontsize':14}, loc='top')"
   ]
  },
  {
   "cell_type": "code",
   "execution_count": 17,
   "id": "b3470e37",
   "metadata": {},
   "outputs": [],
   "source": [
    "#A function to extract hashtags from a tweet\n",
    "def hashtags(tweet):\n",
    "    tweet = tweet.lower()\n",
    "    tweet_regex = re.findall(r'#\\w+', tweet)\n",
    "    return ' '.join(tweet_regex)"
   ]
  },
  {
   "cell_type": "code",
   "execution_count": 18,
   "id": "a79cdda6",
   "metadata": {},
   "outputs": [],
   "source": [
    "#A function to extract mentioned users from a tweet\n",
    "def mentions(tweet):\n",
    "    tweet = tweet.lower()\n",
    "    tweet_regex = re.findall(r'@\\w+', tweet)\n",
    "    return ' '.join(tweet_regex)"
   ]
  },
  {
   "cell_type": "code",
   "execution_count": 19,
   "id": "4022f2c7",
   "metadata": {},
   "outputs": [],
   "source": [
    "apexlegendsmobile_skins = ['Lifeline', 'octane', 'bangalore', 'caustic', 'mirage', 'octane', 'pathfinder', 'wraith', 'bloodhound', 'joe', \n",
    "                          'gibraltar', 'loba', 'fade']"
   ]
  },
  {
   "cell_type": "code",
   "execution_count": 20,
   "id": "5a849100",
   "metadata": {},
   "outputs": [],
   "source": [
    "\n",
    "def characters(tweet):\n",
    "    tweet = tweet.lower()\n",
    "    tweet_tokenize = word_tokenize(tweet)\n",
    "    xter = [character for character in tweet_tokenize if character in apexlegendsmobile_skins]\n",
    "    return ' '.join(xter)\n",
    "\n"
   ]
  },
  {
   "cell_type": "code",
   "execution_count": 21,
   "id": "713f6759",
   "metadata": {},
   "outputs": [
    {
     "name": "stderr",
     "output_type": "stream",
     "text": [
      "C:\\Users\\User\\AppData\\Local\\Temp\\ipykernel_10660\\517769273.py:1: SettingWithCopyWarning: \n",
      "A value is trying to be set on a copy of a slice from a DataFrame.\n",
      "Try using .loc[row_indexer,col_indexer] = value instead\n",
      "\n",
      "See the caveats in the documentation: https://pandas.pydata.org/pandas-docs/stable/user_guide/indexing.html#returning-a-view-versus-a-copy\n",
      "  tweets_df['Hashtags'] = tweets_df.loc[:, 'Text'].apply(hashtags)\n"
     ]
    }
   ],
   "source": [
    "tweets_df['Hashtags'] = tweets_df.loc[:, 'Text'].apply(hashtags)\n",
    "\n"
   ]
  },
  {
   "cell_type": "code",
   "execution_count": 22,
   "id": "cb01a304",
   "metadata": {},
   "outputs": [
    {
     "name": "stderr",
     "output_type": "stream",
     "text": [
      "C:\\Users\\User\\AppData\\Local\\Temp\\ipykernel_10660\\2647512342.py:1: SettingWithCopyWarning: \n",
      "A value is trying to be set on a copy of a slice from a DataFrame.\n",
      "Try using .loc[row_indexer,col_indexer] = value instead\n",
      "\n",
      "See the caveats in the documentation: https://pandas.pydata.org/pandas-docs/stable/user_guide/indexing.html#returning-a-view-versus-a-copy\n",
      "  tweets_df['MentionedUsers'] = tweets_df.loc[:, 'Text'].apply(mentions)\n"
     ]
    },
    {
     "ename": "LookupError",
     "evalue": "\n**********************************************************************\n  Resource \u001b[93mpunkt\u001b[0m not found.\n  Please use the NLTK Downloader to obtain the resource:\n\n  \u001b[31m>>> import nltk\n  >>> nltk.download('punkt')\n  \u001b[0m\n  For more information see: https://www.nltk.org/data.html\n\n  Attempted to load \u001b[93mtokenizers/punkt/english.pickle\u001b[0m\n\n  Searched in:\n    - 'C:\\\\Users\\\\User/nltk_data'\n    - 'C:\\\\Users\\\\User\\\\anaconda3\\\\nltk_data'\n    - 'C:\\\\Users\\\\User\\\\anaconda3\\\\share\\\\nltk_data'\n    - 'C:\\\\Users\\\\User\\\\anaconda3\\\\lib\\\\nltk_data'\n    - 'C:\\\\Users\\\\User\\\\AppData\\\\Roaming\\\\nltk_data'\n    - 'C:\\\\nltk_data'\n    - 'D:\\\\nltk_data'\n    - 'E:\\\\nltk_data'\n    - ''\n**********************************************************************\n",
     "output_type": "error",
     "traceback": [
      "\u001b[1;31m---------------------------------------------------------------------------\u001b[0m",
      "\u001b[1;31mLookupError\u001b[0m                               Traceback (most recent call last)",
      "Input \u001b[1;32mIn [22]\u001b[0m, in \u001b[0;36m<cell line: 2>\u001b[1;34m()\u001b[0m\n\u001b[0;32m      1\u001b[0m tweets_df[\u001b[38;5;124m'\u001b[39m\u001b[38;5;124mMentionedUsers\u001b[39m\u001b[38;5;124m'\u001b[39m] \u001b[38;5;241m=\u001b[39m tweets_df\u001b[38;5;241m.\u001b[39mloc[:, \u001b[38;5;124m'\u001b[39m\u001b[38;5;124mText\u001b[39m\u001b[38;5;124m'\u001b[39m]\u001b[38;5;241m.\u001b[39mapply(mentions)\n\u001b[1;32m----> 2\u001b[0m tweets_df[\u001b[38;5;124m'\u001b[39m\u001b[38;5;124mCharacters\u001b[39m\u001b[38;5;124m'\u001b[39m] \u001b[38;5;241m=\u001b[39m \u001b[43mtweets_df\u001b[49m\u001b[38;5;241;43m.\u001b[39;49m\u001b[43mloc\u001b[49m\u001b[43m[\u001b[49m\u001b[43m:\u001b[49m\u001b[43m,\u001b[49m\u001b[43m \u001b[49m\u001b[38;5;124;43m'\u001b[39;49m\u001b[38;5;124;43mText\u001b[39;49m\u001b[38;5;124;43m'\u001b[39;49m\u001b[43m]\u001b[49m\u001b[38;5;241;43m.\u001b[39;49m\u001b[43mapply\u001b[49m\u001b[43m(\u001b[49m\u001b[43mcharacters\u001b[49m\u001b[43m)\u001b[49m\n",
      "File \u001b[1;32m~\\anaconda3\\lib\\site-packages\\pandas\\core\\series.py:4433\u001b[0m, in \u001b[0;36mSeries.apply\u001b[1;34m(self, func, convert_dtype, args, **kwargs)\u001b[0m\n\u001b[0;32m   4323\u001b[0m \u001b[38;5;28;01mdef\u001b[39;00m \u001b[38;5;21mapply\u001b[39m(\n\u001b[0;32m   4324\u001b[0m     \u001b[38;5;28mself\u001b[39m,\n\u001b[0;32m   4325\u001b[0m     func: AggFuncType,\n\u001b[1;32m   (...)\u001b[0m\n\u001b[0;32m   4328\u001b[0m     \u001b[38;5;241m*\u001b[39m\u001b[38;5;241m*\u001b[39mkwargs,\n\u001b[0;32m   4329\u001b[0m ) \u001b[38;5;241m-\u001b[39m\u001b[38;5;241m>\u001b[39m DataFrame \u001b[38;5;241m|\u001b[39m Series:\n\u001b[0;32m   4330\u001b[0m     \u001b[38;5;124;03m\"\"\"\u001b[39;00m\n\u001b[0;32m   4331\u001b[0m \u001b[38;5;124;03m    Invoke function on values of Series.\u001b[39;00m\n\u001b[0;32m   4332\u001b[0m \n\u001b[1;32m   (...)\u001b[0m\n\u001b[0;32m   4431\u001b[0m \u001b[38;5;124;03m    dtype: float64\u001b[39;00m\n\u001b[0;32m   4432\u001b[0m \u001b[38;5;124;03m    \"\"\"\u001b[39;00m\n\u001b[1;32m-> 4433\u001b[0m     \u001b[38;5;28;01mreturn\u001b[39;00m \u001b[43mSeriesApply\u001b[49m\u001b[43m(\u001b[49m\u001b[38;5;28;43mself\u001b[39;49m\u001b[43m,\u001b[49m\u001b[43m \u001b[49m\u001b[43mfunc\u001b[49m\u001b[43m,\u001b[49m\u001b[43m \u001b[49m\u001b[43mconvert_dtype\u001b[49m\u001b[43m,\u001b[49m\u001b[43m \u001b[49m\u001b[43margs\u001b[49m\u001b[43m,\u001b[49m\u001b[43m \u001b[49m\u001b[43mkwargs\u001b[49m\u001b[43m)\u001b[49m\u001b[38;5;241;43m.\u001b[39;49m\u001b[43mapply\u001b[49m\u001b[43m(\u001b[49m\u001b[43m)\u001b[49m\n",
      "File \u001b[1;32m~\\anaconda3\\lib\\site-packages\\pandas\\core\\apply.py:1082\u001b[0m, in \u001b[0;36mSeriesApply.apply\u001b[1;34m(self)\u001b[0m\n\u001b[0;32m   1078\u001b[0m \u001b[38;5;28;01mif\u001b[39;00m \u001b[38;5;28misinstance\u001b[39m(\u001b[38;5;28mself\u001b[39m\u001b[38;5;241m.\u001b[39mf, \u001b[38;5;28mstr\u001b[39m):\n\u001b[0;32m   1079\u001b[0m     \u001b[38;5;66;03m# if we are a string, try to dispatch\u001b[39;00m\n\u001b[0;32m   1080\u001b[0m     \u001b[38;5;28;01mreturn\u001b[39;00m \u001b[38;5;28mself\u001b[39m\u001b[38;5;241m.\u001b[39mapply_str()\n\u001b[1;32m-> 1082\u001b[0m \u001b[38;5;28;01mreturn\u001b[39;00m \u001b[38;5;28;43mself\u001b[39;49m\u001b[38;5;241;43m.\u001b[39;49m\u001b[43mapply_standard\u001b[49m\u001b[43m(\u001b[49m\u001b[43m)\u001b[49m\n",
      "File \u001b[1;32m~\\anaconda3\\lib\\site-packages\\pandas\\core\\apply.py:1137\u001b[0m, in \u001b[0;36mSeriesApply.apply_standard\u001b[1;34m(self)\u001b[0m\n\u001b[0;32m   1131\u001b[0m         values \u001b[38;5;241m=\u001b[39m obj\u001b[38;5;241m.\u001b[39mastype(\u001b[38;5;28mobject\u001b[39m)\u001b[38;5;241m.\u001b[39m_values\n\u001b[0;32m   1132\u001b[0m         \u001b[38;5;66;03m# error: Argument 2 to \"map_infer\" has incompatible type\u001b[39;00m\n\u001b[0;32m   1133\u001b[0m         \u001b[38;5;66;03m# \"Union[Callable[..., Any], str, List[Union[Callable[..., Any], str]],\u001b[39;00m\n\u001b[0;32m   1134\u001b[0m         \u001b[38;5;66;03m# Dict[Hashable, Union[Union[Callable[..., Any], str],\u001b[39;00m\n\u001b[0;32m   1135\u001b[0m         \u001b[38;5;66;03m# List[Union[Callable[..., Any], str]]]]]\"; expected\u001b[39;00m\n\u001b[0;32m   1136\u001b[0m         \u001b[38;5;66;03m# \"Callable[[Any], Any]\"\u001b[39;00m\n\u001b[1;32m-> 1137\u001b[0m         mapped \u001b[38;5;241m=\u001b[39m \u001b[43mlib\u001b[49m\u001b[38;5;241;43m.\u001b[39;49m\u001b[43mmap_infer\u001b[49m\u001b[43m(\u001b[49m\n\u001b[0;32m   1138\u001b[0m \u001b[43m            \u001b[49m\u001b[43mvalues\u001b[49m\u001b[43m,\u001b[49m\n\u001b[0;32m   1139\u001b[0m \u001b[43m            \u001b[49m\u001b[43mf\u001b[49m\u001b[43m,\u001b[49m\u001b[43m  \u001b[49m\u001b[38;5;66;43;03m# type: ignore[arg-type]\u001b[39;49;00m\n\u001b[0;32m   1140\u001b[0m \u001b[43m            \u001b[49m\u001b[43mconvert\u001b[49m\u001b[38;5;241;43m=\u001b[39;49m\u001b[38;5;28;43mself\u001b[39;49m\u001b[38;5;241;43m.\u001b[39;49m\u001b[43mconvert_dtype\u001b[49m\u001b[43m,\u001b[49m\n\u001b[0;32m   1141\u001b[0m \u001b[43m        \u001b[49m\u001b[43m)\u001b[49m\n\u001b[0;32m   1143\u001b[0m \u001b[38;5;28;01mif\u001b[39;00m \u001b[38;5;28mlen\u001b[39m(mapped) \u001b[38;5;129;01mand\u001b[39;00m \u001b[38;5;28misinstance\u001b[39m(mapped[\u001b[38;5;241m0\u001b[39m], ABCSeries):\n\u001b[0;32m   1144\u001b[0m     \u001b[38;5;66;03m# GH#43986 Need to do list(mapped) in order to get treated as nested\u001b[39;00m\n\u001b[0;32m   1145\u001b[0m     \u001b[38;5;66;03m#  See also GH#25959 regarding EA support\u001b[39;00m\n\u001b[0;32m   1146\u001b[0m     \u001b[38;5;28;01mreturn\u001b[39;00m obj\u001b[38;5;241m.\u001b[39m_constructor_expanddim(\u001b[38;5;28mlist\u001b[39m(mapped), index\u001b[38;5;241m=\u001b[39mobj\u001b[38;5;241m.\u001b[39mindex)\n",
      "File \u001b[1;32m~\\anaconda3\\lib\\site-packages\\pandas\\_libs\\lib.pyx:2870\u001b[0m, in \u001b[0;36mpandas._libs.lib.map_infer\u001b[1;34m()\u001b[0m\n",
      "Input \u001b[1;32mIn [20]\u001b[0m, in \u001b[0;36mcharacters\u001b[1;34m(tweet)\u001b[0m\n\u001b[0;32m      1\u001b[0m \u001b[38;5;28;01mdef\u001b[39;00m \u001b[38;5;21mcharacters\u001b[39m(tweet):\n\u001b[0;32m      2\u001b[0m     tweet \u001b[38;5;241m=\u001b[39m tweet\u001b[38;5;241m.\u001b[39mlower()\n\u001b[1;32m----> 3\u001b[0m     tweet_tokenize \u001b[38;5;241m=\u001b[39m \u001b[43mword_tokenize\u001b[49m\u001b[43m(\u001b[49m\u001b[43mtweet\u001b[49m\u001b[43m)\u001b[49m\n\u001b[0;32m      4\u001b[0m     xter \u001b[38;5;241m=\u001b[39m [character \u001b[38;5;28;01mfor\u001b[39;00m character \u001b[38;5;129;01min\u001b[39;00m tweet_tokenize \u001b[38;5;28;01mif\u001b[39;00m character \u001b[38;5;129;01min\u001b[39;00m apexlegendsmobile_skins]\n\u001b[0;32m      5\u001b[0m     \u001b[38;5;28;01mreturn\u001b[39;00m \u001b[38;5;124m'\u001b[39m\u001b[38;5;124m \u001b[39m\u001b[38;5;124m'\u001b[39m\u001b[38;5;241m.\u001b[39mjoin(xter)\n",
      "File \u001b[1;32m~\\anaconda3\\lib\\site-packages\\nltk\\tokenize\\__init__.py:129\u001b[0m, in \u001b[0;36mword_tokenize\u001b[1;34m(text, language, preserve_line)\u001b[0m\n\u001b[0;32m    114\u001b[0m \u001b[38;5;28;01mdef\u001b[39;00m \u001b[38;5;21mword_tokenize\u001b[39m(text, language\u001b[38;5;241m=\u001b[39m\u001b[38;5;124m\"\u001b[39m\u001b[38;5;124menglish\u001b[39m\u001b[38;5;124m\"\u001b[39m, preserve_line\u001b[38;5;241m=\u001b[39m\u001b[38;5;28;01mFalse\u001b[39;00m):\n\u001b[0;32m    115\u001b[0m     \u001b[38;5;124;03m\"\"\"\u001b[39;00m\n\u001b[0;32m    116\u001b[0m \u001b[38;5;124;03m    Return a tokenized copy of *text*,\u001b[39;00m\n\u001b[0;32m    117\u001b[0m \u001b[38;5;124;03m    using NLTK's recommended word tokenizer\u001b[39;00m\n\u001b[1;32m   (...)\u001b[0m\n\u001b[0;32m    127\u001b[0m \u001b[38;5;124;03m    :type preserve_line: bool\u001b[39;00m\n\u001b[0;32m    128\u001b[0m \u001b[38;5;124;03m    \"\"\"\u001b[39;00m\n\u001b[1;32m--> 129\u001b[0m     sentences \u001b[38;5;241m=\u001b[39m [text] \u001b[38;5;28;01mif\u001b[39;00m preserve_line \u001b[38;5;28;01melse\u001b[39;00m \u001b[43msent_tokenize\u001b[49m\u001b[43m(\u001b[49m\u001b[43mtext\u001b[49m\u001b[43m,\u001b[49m\u001b[43m \u001b[49m\u001b[43mlanguage\u001b[49m\u001b[43m)\u001b[49m\n\u001b[0;32m    130\u001b[0m     \u001b[38;5;28;01mreturn\u001b[39;00m [\n\u001b[0;32m    131\u001b[0m         token \u001b[38;5;28;01mfor\u001b[39;00m sent \u001b[38;5;129;01min\u001b[39;00m sentences \u001b[38;5;28;01mfor\u001b[39;00m token \u001b[38;5;129;01min\u001b[39;00m _treebank_word_tokenizer\u001b[38;5;241m.\u001b[39mtokenize(sent)\n\u001b[0;32m    132\u001b[0m     ]\n",
      "File \u001b[1;32m~\\anaconda3\\lib\\site-packages\\nltk\\tokenize\\__init__.py:106\u001b[0m, in \u001b[0;36msent_tokenize\u001b[1;34m(text, language)\u001b[0m\n\u001b[0;32m     96\u001b[0m \u001b[38;5;28;01mdef\u001b[39;00m \u001b[38;5;21msent_tokenize\u001b[39m(text, language\u001b[38;5;241m=\u001b[39m\u001b[38;5;124m\"\u001b[39m\u001b[38;5;124menglish\u001b[39m\u001b[38;5;124m\"\u001b[39m):\n\u001b[0;32m     97\u001b[0m     \u001b[38;5;124;03m\"\"\"\u001b[39;00m\n\u001b[0;32m     98\u001b[0m \u001b[38;5;124;03m    Return a sentence-tokenized copy of *text*,\u001b[39;00m\n\u001b[0;32m     99\u001b[0m \u001b[38;5;124;03m    using NLTK's recommended sentence tokenizer\u001b[39;00m\n\u001b[1;32m   (...)\u001b[0m\n\u001b[0;32m    104\u001b[0m \u001b[38;5;124;03m    :param language: the model name in the Punkt corpus\u001b[39;00m\n\u001b[0;32m    105\u001b[0m \u001b[38;5;124;03m    \"\"\"\u001b[39;00m\n\u001b[1;32m--> 106\u001b[0m     tokenizer \u001b[38;5;241m=\u001b[39m \u001b[43mload\u001b[49m\u001b[43m(\u001b[49m\u001b[38;5;124;43mf\u001b[39;49m\u001b[38;5;124;43m\"\u001b[39;49m\u001b[38;5;124;43mtokenizers/punkt/\u001b[39;49m\u001b[38;5;132;43;01m{\u001b[39;49;00m\u001b[43mlanguage\u001b[49m\u001b[38;5;132;43;01m}\u001b[39;49;00m\u001b[38;5;124;43m.pickle\u001b[39;49m\u001b[38;5;124;43m\"\u001b[39;49m\u001b[43m)\u001b[49m\n\u001b[0;32m    107\u001b[0m     \u001b[38;5;28;01mreturn\u001b[39;00m tokenizer\u001b[38;5;241m.\u001b[39mtokenize(text)\n",
      "File \u001b[1;32m~\\anaconda3\\lib\\site-packages\\nltk\\data.py:750\u001b[0m, in \u001b[0;36mload\u001b[1;34m(resource_url, format, cache, verbose, logic_parser, fstruct_reader, encoding)\u001b[0m\n\u001b[0;32m    747\u001b[0m     \u001b[38;5;28mprint\u001b[39m(\u001b[38;5;124mf\u001b[39m\u001b[38;5;124m\"\u001b[39m\u001b[38;5;124m<<Loading \u001b[39m\u001b[38;5;132;01m{\u001b[39;00mresource_url\u001b[38;5;132;01m}\u001b[39;00m\u001b[38;5;124m>>\u001b[39m\u001b[38;5;124m\"\u001b[39m)\n\u001b[0;32m    749\u001b[0m \u001b[38;5;66;03m# Load the resource.\u001b[39;00m\n\u001b[1;32m--> 750\u001b[0m opened_resource \u001b[38;5;241m=\u001b[39m \u001b[43m_open\u001b[49m\u001b[43m(\u001b[49m\u001b[43mresource_url\u001b[49m\u001b[43m)\u001b[49m\n\u001b[0;32m    752\u001b[0m \u001b[38;5;28;01mif\u001b[39;00m \u001b[38;5;28mformat\u001b[39m \u001b[38;5;241m==\u001b[39m \u001b[38;5;124m\"\u001b[39m\u001b[38;5;124mraw\u001b[39m\u001b[38;5;124m\"\u001b[39m:\n\u001b[0;32m    753\u001b[0m     resource_val \u001b[38;5;241m=\u001b[39m opened_resource\u001b[38;5;241m.\u001b[39mread()\n",
      "File \u001b[1;32m~\\anaconda3\\lib\\site-packages\\nltk\\data.py:876\u001b[0m, in \u001b[0;36m_open\u001b[1;34m(resource_url)\u001b[0m\n\u001b[0;32m    873\u001b[0m protocol, path_ \u001b[38;5;241m=\u001b[39m split_resource_url(resource_url)\n\u001b[0;32m    875\u001b[0m \u001b[38;5;28;01mif\u001b[39;00m protocol \u001b[38;5;129;01mis\u001b[39;00m \u001b[38;5;28;01mNone\u001b[39;00m \u001b[38;5;129;01mor\u001b[39;00m protocol\u001b[38;5;241m.\u001b[39mlower() \u001b[38;5;241m==\u001b[39m \u001b[38;5;124m\"\u001b[39m\u001b[38;5;124mnltk\u001b[39m\u001b[38;5;124m\"\u001b[39m:\n\u001b[1;32m--> 876\u001b[0m     \u001b[38;5;28;01mreturn\u001b[39;00m \u001b[43mfind\u001b[49m\u001b[43m(\u001b[49m\u001b[43mpath_\u001b[49m\u001b[43m,\u001b[49m\u001b[43m \u001b[49m\u001b[43mpath\u001b[49m\u001b[43m \u001b[49m\u001b[38;5;241;43m+\u001b[39;49m\u001b[43m \u001b[49m\u001b[43m[\u001b[49m\u001b[38;5;124;43m\"\u001b[39;49m\u001b[38;5;124;43m\"\u001b[39;49m\u001b[43m]\u001b[49m\u001b[43m)\u001b[49m\u001b[38;5;241m.\u001b[39mopen()\n\u001b[0;32m    877\u001b[0m \u001b[38;5;28;01melif\u001b[39;00m protocol\u001b[38;5;241m.\u001b[39mlower() \u001b[38;5;241m==\u001b[39m \u001b[38;5;124m\"\u001b[39m\u001b[38;5;124mfile\u001b[39m\u001b[38;5;124m\"\u001b[39m:\n\u001b[0;32m    878\u001b[0m     \u001b[38;5;66;03m# urllib might not use mode='rb', so handle this one ourselves:\u001b[39;00m\n\u001b[0;32m    879\u001b[0m     \u001b[38;5;28;01mreturn\u001b[39;00m find(path_, [\u001b[38;5;124m\"\u001b[39m\u001b[38;5;124m\"\u001b[39m])\u001b[38;5;241m.\u001b[39mopen()\n",
      "File \u001b[1;32m~\\anaconda3\\lib\\site-packages\\nltk\\data.py:583\u001b[0m, in \u001b[0;36mfind\u001b[1;34m(resource_name, paths)\u001b[0m\n\u001b[0;32m    581\u001b[0m sep \u001b[38;5;241m=\u001b[39m \u001b[38;5;124m\"\u001b[39m\u001b[38;5;124m*\u001b[39m\u001b[38;5;124m\"\u001b[39m \u001b[38;5;241m*\u001b[39m \u001b[38;5;241m70\u001b[39m\n\u001b[0;32m    582\u001b[0m resource_not_found \u001b[38;5;241m=\u001b[39m \u001b[38;5;124mf\u001b[39m\u001b[38;5;124m\"\u001b[39m\u001b[38;5;130;01m\\n\u001b[39;00m\u001b[38;5;132;01m{\u001b[39;00msep\u001b[38;5;132;01m}\u001b[39;00m\u001b[38;5;130;01m\\n\u001b[39;00m\u001b[38;5;132;01m{\u001b[39;00mmsg\u001b[38;5;132;01m}\u001b[39;00m\u001b[38;5;130;01m\\n\u001b[39;00m\u001b[38;5;132;01m{\u001b[39;00msep\u001b[38;5;132;01m}\u001b[39;00m\u001b[38;5;130;01m\\n\u001b[39;00m\u001b[38;5;124m\"\u001b[39m\n\u001b[1;32m--> 583\u001b[0m \u001b[38;5;28;01mraise\u001b[39;00m \u001b[38;5;167;01mLookupError\u001b[39;00m(resource_not_found)\n",
      "\u001b[1;31mLookupError\u001b[0m: \n**********************************************************************\n  Resource \u001b[93mpunkt\u001b[0m not found.\n  Please use the NLTK Downloader to obtain the resource:\n\n  \u001b[31m>>> import nltk\n  >>> nltk.download('punkt')\n  \u001b[0m\n  For more information see: https://www.nltk.org/data.html\n\n  Attempted to load \u001b[93mtokenizers/punkt/english.pickle\u001b[0m\n\n  Searched in:\n    - 'C:\\\\Users\\\\User/nltk_data'\n    - 'C:\\\\Users\\\\User\\\\anaconda3\\\\nltk_data'\n    - 'C:\\\\Users\\\\User\\\\anaconda3\\\\share\\\\nltk_data'\n    - 'C:\\\\Users\\\\User\\\\anaconda3\\\\lib\\\\nltk_data'\n    - 'C:\\\\Users\\\\User\\\\AppData\\\\Roaming\\\\nltk_data'\n    - 'C:\\\\nltk_data'\n    - 'D:\\\\nltk_data'\n    - 'E:\\\\nltk_data'\n    - ''\n**********************************************************************\n"
     ]
    }
   ],
   "source": [
    "tweets_df['MentionedUsers'] = tweets_df.loc[:, 'Text'].apply(mentions)\n",
    "tweets_df['Characters'] = tweets_df.loc[:, 'Text'].apply(characters)"
   ]
  },
  {
   "cell_type": "code",
   "execution_count": 23,
   "id": "721a64c1",
   "metadata": {},
   "outputs": [
    {
     "data": {
      "text/html": [
       "<div>\n",
       "<style scoped>\n",
       "    .dataframe tbody tr th:only-of-type {\n",
       "        vertical-align: middle;\n",
       "    }\n",
       "\n",
       "    .dataframe tbody tr th {\n",
       "        vertical-align: top;\n",
       "    }\n",
       "\n",
       "    .dataframe thead th {\n",
       "        text-align: right;\n",
       "    }\n",
       "</style>\n",
       "<table border=\"1\" class=\"dataframe\">\n",
       "  <thead>\n",
       "    <tr style=\"text-align: right;\">\n",
       "      <th></th>\n",
       "      <th>Datetime</th>\n",
       "      <th>Tweet Id</th>\n",
       "      <th>Text</th>\n",
       "      <th>Username</th>\n",
       "      <th>Location</th>\n",
       "      <th>Language</th>\n",
       "      <th>Retweets</th>\n",
       "      <th>Likes</th>\n",
       "      <th>Hashtags</th>\n",
       "      <th>MentionedUsers</th>\n",
       "    </tr>\n",
       "  </thead>\n",
       "  <tbody>\n",
       "    <tr>\n",
       "      <th>0</th>\n",
       "      <td>2022-06-21 23:58:26+00:00</td>\n",
       "      <td>1539397364238237696</td>\n",
       "      <td>@mark34198348 @PlayApexMobile I just don’t und...</td>\n",
       "      <td>LarryMVols18</td>\n",
       "      <td>Atlanta, GA</td>\n",
       "      <td>en</td>\n",
       "      <td>0</td>\n",
       "      <td>0</td>\n",
       "      <td></td>\n",
       "      <td>@mark34198348 @playapexmobile</td>\n",
       "    </tr>\n",
       "    <tr>\n",
       "      <th>1</th>\n",
       "      <td>2022-06-21 23:57:33+00:00</td>\n",
       "      <td>1539397142183391232</td>\n",
       "      <td>@mark34198348 @PlayApexMobile Hell no I use my...</td>\n",
       "      <td>LarryMVols18</td>\n",
       "      <td>Atlanta, GA</td>\n",
       "      <td>en</td>\n",
       "      <td>0</td>\n",
       "      <td>0</td>\n",
       "      <td></td>\n",
       "      <td>@mark34198348 @playapexmobile</td>\n",
       "    </tr>\n",
       "    <tr>\n",
       "      <th>2</th>\n",
       "      <td>2022-06-21 23:53:39+00:00</td>\n",
       "      <td>1539396156790394880</td>\n",
       "      <td>@ImOwFromYT @Respawn @PlayApexMobile my shii i...</td>\n",
       "      <td>fayde990</td>\n",
       "      <td></td>\n",
       "      <td>en</td>\n",
       "      <td>0</td>\n",
       "      <td>1</td>\n",
       "      <td></td>\n",
       "      <td>@imowfromyt @respawn @playapexmobile</td>\n",
       "    </tr>\n",
       "    <tr>\n",
       "      <th>3</th>\n",
       "      <td>2022-06-21 23:53:22+00:00</td>\n",
       "      <td>1539396086179287041</td>\n",
       "      <td>The developers at @Respawn and @PlayApexMobile...</td>\n",
       "      <td>Hyper_FNM</td>\n",
       "      <td></td>\n",
       "      <td>en</td>\n",
       "      <td>0</td>\n",
       "      <td>1</td>\n",
       "      <td></td>\n",
       "      <td>@respawn @playapexmobile</td>\n",
       "    </tr>\n",
       "    <tr>\n",
       "      <th>4</th>\n",
       "      <td>2022-06-21 23:45:08+00:00</td>\n",
       "      <td>1539394013681356800</td>\n",
       "      <td>@DeathlyAPXM @1ceStream @PlayApexMobile ping</td>\n",
       "      <td>zoeticfnm</td>\n",
       "      <td></td>\n",
       "      <td>en</td>\n",
       "      <td>0</td>\n",
       "      <td>0</td>\n",
       "      <td></td>\n",
       "      <td>@deathlyapxm @1cestream @playapexmobile</td>\n",
       "    </tr>\n",
       "    <tr>\n",
       "      <th>5</th>\n",
       "      <td>2022-06-21 23:43:28+00:00</td>\n",
       "      <td>1539393595391844352</td>\n",
       "      <td>Oh @PlayApexMobile is done done.. 5 minutes to...</td>\n",
       "      <td>ZayP30</td>\n",
       "      <td>Texas, USA</td>\n",
       "      <td>en</td>\n",
       "      <td>0</td>\n",
       "      <td>0</td>\n",
       "      <td>#stopitapex</td>\n",
       "      <td>@playapexmobile</td>\n",
       "    </tr>\n",
       "    <tr>\n",
       "      <th>6</th>\n",
       "      <td>2022-06-21 23:42:02+00:00</td>\n",
       "      <td>1539393235428249601</td>\n",
       "      <td>@CalistusYT @PlayApexMobile I think he’s legit 🐒</td>\n",
       "      <td>GolemSlayer1234</td>\n",
       "      <td>Shin-Sekaï</td>\n",
       "      <td>en</td>\n",
       "      <td>0</td>\n",
       "      <td>0</td>\n",
       "      <td></td>\n",
       "      <td>@calistusyt @playapexmobile</td>\n",
       "    </tr>\n",
       "    <tr>\n",
       "      <th>7</th>\n",
       "      <td>2022-06-21 23:37:36+00:00</td>\n",
       "      <td>1539392117788712960</td>\n",
       "      <td>@LarryMVols18 @PlayApexMobile You can play wit...</td>\n",
       "      <td>mark34198348</td>\n",
       "      <td></td>\n",
       "      <td>en</td>\n",
       "      <td>0</td>\n",
       "      <td>0</td>\n",
       "      <td></td>\n",
       "      <td>@larrymvols18 @playapexmobile</td>\n",
       "    </tr>\n",
       "    <tr>\n",
       "      <th>8</th>\n",
       "      <td>2022-06-21 23:36:01+00:00</td>\n",
       "      <td>1539391720282103809</td>\n",
       "      <td>@PlayApexMobile I’m curious why do players use...</td>\n",
       "      <td>LarryMVols18</td>\n",
       "      <td>Atlanta, GA</td>\n",
       "      <td>en</td>\n",
       "      <td>0</td>\n",
       "      <td>1</td>\n",
       "      <td></td>\n",
       "      <td>@playapexmobile</td>\n",
       "    </tr>\n",
       "    <tr>\n",
       "      <th>9</th>\n",
       "      <td>2022-06-21 23:28:50+00:00</td>\n",
       "      <td>1539389914864926720</td>\n",
       "      <td>📌YouTube Rating 5/5 : #apexlegends #mobile Whe...</td>\n",
       "      <td>USStockCryptoN2</td>\n",
       "      <td>Tokyo</td>\n",
       "      <td>en</td>\n",
       "      <td>0</td>\n",
       "      <td>0</td>\n",
       "      <td>#apexlegends #mobile</td>\n",
       "      <td></td>\n",
       "    </tr>\n",
       "  </tbody>\n",
       "</table>\n",
       "</div>"
      ],
      "text/plain": [
       "                   Datetime             Tweet Id  \\\n",
       "0 2022-06-21 23:58:26+00:00  1539397364238237696   \n",
       "1 2022-06-21 23:57:33+00:00  1539397142183391232   \n",
       "2 2022-06-21 23:53:39+00:00  1539396156790394880   \n",
       "3 2022-06-21 23:53:22+00:00  1539396086179287041   \n",
       "4 2022-06-21 23:45:08+00:00  1539394013681356800   \n",
       "5 2022-06-21 23:43:28+00:00  1539393595391844352   \n",
       "6 2022-06-21 23:42:02+00:00  1539393235428249601   \n",
       "7 2022-06-21 23:37:36+00:00  1539392117788712960   \n",
       "8 2022-06-21 23:36:01+00:00  1539391720282103809   \n",
       "9 2022-06-21 23:28:50+00:00  1539389914864926720   \n",
       "\n",
       "                                                Text         Username  \\\n",
       "0  @mark34198348 @PlayApexMobile I just don’t und...     LarryMVols18   \n",
       "1  @mark34198348 @PlayApexMobile Hell no I use my...     LarryMVols18   \n",
       "2  @ImOwFromYT @Respawn @PlayApexMobile my shii i...         fayde990   \n",
       "3  The developers at @Respawn and @PlayApexMobile...        Hyper_FNM   \n",
       "4       @DeathlyAPXM @1ceStream @PlayApexMobile ping        zoeticfnm   \n",
       "5  Oh @PlayApexMobile is done done.. 5 minutes to...           ZayP30   \n",
       "6   @CalistusYT @PlayApexMobile I think he’s legit 🐒  GolemSlayer1234   \n",
       "7  @LarryMVols18 @PlayApexMobile You can play wit...     mark34198348   \n",
       "8  @PlayApexMobile I’m curious why do players use...     LarryMVols18   \n",
       "9  📌YouTube Rating 5/5 : #apexlegends #mobile Whe...  USStockCryptoN2   \n",
       "\n",
       "      Location Language  Retweets  Likes              Hashtags  \\\n",
       "0  Atlanta, GA       en         0      0                         \n",
       "1  Atlanta, GA       en         0      0                         \n",
       "2                    en         0      1                         \n",
       "3                    en         0      1                         \n",
       "4                    en         0      0                         \n",
       "5   Texas, USA       en         0      0           #stopitapex   \n",
       "6   Shin-Sekaï       en         0      0                         \n",
       "7                    en         0      0                         \n",
       "8  Atlanta, GA       en         0      1                         \n",
       "9        Tokyo       en         0      0  #apexlegends #mobile   \n",
       "\n",
       "                            MentionedUsers  \n",
       "0            @mark34198348 @playapexmobile  \n",
       "1            @mark34198348 @playapexmobile  \n",
       "2     @imowfromyt @respawn @playapexmobile  \n",
       "3                 @respawn @playapexmobile  \n",
       "4  @deathlyapxm @1cestream @playapexmobile  \n",
       "5                          @playapexmobile  \n",
       "6              @calistusyt @playapexmobile  \n",
       "7            @larrymvols18 @playapexmobile  \n",
       "8                          @playapexmobile  \n",
       "9                                           "
      ]
     },
     "execution_count": 23,
     "metadata": {},
     "output_type": "execute_result"
    }
   ],
   "source": [
    "tweets_df.head(10)"
   ]
  },
  {
   "cell_type": "code",
   "execution_count": 24,
   "id": "18de5b55",
   "metadata": {},
   "outputs": [],
   "source": [
    "tweets_df.to_csv('nameoff2.csv')"
   ]
  }
 ],
 "metadata": {
  "kernelspec": {
   "display_name": "Python 3 (ipykernel)",
   "language": "python",
   "name": "python3"
  },
  "language_info": {
   "codemirror_mode": {
    "name": "ipython",
    "version": 3
   },
   "file_extension": ".py",
   "mimetype": "text/x-python",
   "name": "python",
   "nbconvert_exporter": "python",
   "pygments_lexer": "ipython3",
   "version": "3.9.12"
  }
 },
 "nbformat": 4,
 "nbformat_minor": 5
}
